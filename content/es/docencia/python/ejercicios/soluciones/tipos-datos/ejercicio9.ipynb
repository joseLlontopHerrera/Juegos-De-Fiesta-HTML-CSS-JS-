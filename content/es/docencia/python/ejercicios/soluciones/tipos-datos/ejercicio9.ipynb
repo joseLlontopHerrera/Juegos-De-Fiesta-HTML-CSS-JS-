{
  "cells": [
    {
      "cell_type": "markdown",
      "metadata": {
        "id": "AxbBC0KMcf_X"
      },
      "source": [
        "## Ejercicio\n",
        "\n",
        "Escribir un programa que pregunte al usuario una cantidad a invertir, el interés porcentual anual y el número de años, y muestre por pantalla el capital obtenido en la inversión redondeado con dos decimales."
      ]
    },
    {
      "cell_type": "markdown",
      "metadata": {
        "id": "ZQt0GAsgcf_b"
      },
      "source": [
        "## Solución"
      ]
    },
    {
      "cell_type": "code",
      "execution_count": 1,
      "metadata": {
        "id": "gnvahvOAcf_c",
        "outputId": "dee10c29-b9df-4da0-8445-1fdf4f900f90",
        "colab": {
          "base_uri": "https://localhost:8080/"
        }
      },
      "outputs": [
        {
          "output_type": "stream",
          "name": "stdout",
          "text": [
            "¿Cantidad a invertir? 1000\n",
            "¿Interés porcentual anual? 10\n",
            "¿Años?5\n",
            "Capital final: 1610.51\n"
          ]
        }
      ],
      "source": [
        "cantidad = float(input(\"¿Cantidad a invertir? \"))\n",
        "interes = float(input(\"¿Interés porcentual anual? \"))\n",
        "años = int(input(\"¿Años?\"))\n",
        "\n",
        "interesxaño= cantidad * (interes / 100)\n",
        "interesganado= interesxaño * años\n",
        "capitalfinal = round(cantidad + interesganado, 2)\n",
        "print(\"Capital final: \", capitalfinal)"
      ]
    }
  ],
  "metadata": {
    "kernelspec": {
      "display_name": "Python 3",
      "language": "python",
      "name": "python3"
    },
    "language_info": {
      "codemirror_mode": {
        "name": "ipython",
        "version": 3
      },
      "file_extension": ".py",
      "mimetype": "text/x-python",
      "name": "python",
      "nbconvert_exporter": "python",
      "pygments_lexer": "ipython3",
      "version": "3.7.1"
    },
    "colab": {
      "provenance": []
    }
  },
  "nbformat": 4,
  "nbformat_minor": 0
}